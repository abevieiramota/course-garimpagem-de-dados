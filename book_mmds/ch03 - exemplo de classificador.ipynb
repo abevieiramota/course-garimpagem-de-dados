{
 "cells": [
  {
   "cell_type": "code",
   "execution_count": null,
   "metadata": {
    "collapsed": true
   },
   "outputs": [],
   "source": [
    "%matplotlib notebook\n",
    "import numpy as np\n",
    "from matplotlib import pyplot as plt\n",
    "import re\n",
    "from nltk.metrics import *\n",
    "from collections import Counter\n",
    "from ipywidgets import *\n",
    "import matplotlib.pyplot as plt\n",
    "import codecs\n",
    "import nltk\n",
    "from sklearn.feature_extraction.text import CountVectorizer\n",
    "import pandas as pd\n",
    "import random\n",
    "from sklearn.feature_extraction.text import HashingVectorizer\n",
    "from sklearn.neighbors import KNeighborsClassifier\n",
    "from scipy import sparse\n",
    "import numpy as np"
   ]
  },
  {
   "cell_type": "code",
   "execution_count": null,
   "metadata": {
    "collapsed": true
   },
   "outputs": [],
   "source": [
    "%run -i books.py"
   ]
  },
  {
   "cell_type": "code",
   "execution_count": null,
   "metadata": {
    "collapsed": true
   },
   "outputs": [],
   "source": [
    "dom_casmurro[35:37]"
   ]
  },
  {
   "cell_type": "code",
   "execution_count": null,
   "metadata": {
    "collapsed": true
   },
   "outputs": [],
   "source": [
    "perto_coracao[55:57]"
   ]
  },
  {
   "cell_type": "code",
   "execution_count": null,
   "metadata": {
    "collapsed": true
   },
   "outputs": [],
   "source": [
    "cv = CountVectorizer(analyzer='word', # n-gram de words\n",
    "                     ngram_range=(2, 2)) # 2-gram\n",
    "\n",
    "cv.fit(dom_casmurro + perto_coracao)\n",
    "\n",
    "print(\"Tamanho do vocabulário: {}\".format(len(cv.vocabulary_)))"
   ]
  },
  {
   "cell_type": "code",
   "execution_count": null,
   "metadata": {
    "collapsed": true
   },
   "outputs": [],
   "source": [
    "line = dom_casmurro[35:36]\n",
    "cv_bigrams = cv.transform(line)\n",
    "df_cv_bigrams = pd.DataFrame(cv_bigrams.todense(), columns=cv.get_feature_names(), index=['count']).T\n",
    "\n",
    "print(\"Linha:\\n{}\".format(line))\n",
    "df_cv_bigrams[df_cv_bigrams['count'] > 0]"
   ]
  },
  {
   "cell_type": "code",
   "execution_count": null,
   "metadata": {
    "collapsed": true
   },
   "outputs": [],
   "source": [
    "X_dom_casmurro = cv.transform(dom_casmurro)\n",
    "y_dom_casmurro = np.zeros((X_dom_casmurro.shape[0], 1))\n",
    "X_perto_coracao = cv.transform(perto_coracao)\n",
    "y_perto_coracao = np.ones((X_perto_coracao.shape[0], 1))\n",
    "\n",
    "X = sparse.vstack((X_dom_casmurro, X_perto_coracao))\n",
    "y = np.vstack((y_dom_casmurro, y_perto_coracao)).ravel()\n",
    "\n",
    "knn = KNeighborsClassifier().fit(X, y)"
   ]
  },
  {
   "cell_type": "code",
   "execution_count": null,
   "metadata": {
    "collapsed": true
   },
   "outputs": [],
   "source": [
    "knn.predict_proba(cv.transform([\"A menina do meio do coração\"]))"
   ]
  },
  {
   "cell_type": "code",
   "execution_count": null,
   "metadata": {
    "collapsed": true
   },
   "outputs": [],
   "source": [
    "from sklearn.metrics import accuracy_score\n",
    "\n",
    "accuracy_score(y, knn.predict(X))"
   ]
  },
  {
   "cell_type": "code",
   "execution_count": null,
   "metadata": {
    "collapsed": true
   },
   "outputs": [],
   "source": [
    "from sklearn.feature_extraction.text import TfidfVectorizer"
   ]
  },
  {
   "cell_type": "code",
   "execution_count": null,
   "metadata": {
    "collapsed": true
   },
   "outputs": [],
   "source": [
    "tfidf = TfidfVectorizer(analyzer='word', # n-gram de words\n",
    "                        stop_words = nltk.corpus.stopwords.words(\"portuguese\")) # desconsiderar stop words\n",
    "\n",
    "tfidf.fit(dom_casmurro + perto_coracao)\n",
    "\n",
    "print(\"Tamanho do vocabulário: {}\".format(len(tfidf.vocabulary_)))"
   ]
  },
  {
   "cell_type": "code",
   "execution_count": null,
   "metadata": {
    "collapsed": true
   },
   "outputs": [],
   "source": [
    "X_dom_casmurro = tfidf.transform(dom_casmurro)\n",
    "y_dom_casmurro = np.zeros((X_dom_casmurro.shape[0], 1))\n",
    "X_perto_coracao = tfidf.transform(perto_coracao)\n",
    "y_perto_coracao = np.ones((X_perto_coracao.shape[0], 1))\n",
    "\n",
    "X = sparse.vstack((X_dom_casmurro, X_perto_coracao))\n",
    "y = np.vstack((y_dom_casmurro, y_perto_coracao)).ravel()\n",
    "\n",
    "knn_tfidf = KNeighborsClassifier().fit(X, y)"
   ]
  },
  {
   "cell_type": "code",
   "execution_count": null,
   "metadata": {
    "collapsed": true
   },
   "outputs": [],
   "source": [
    "accuracy_score(y, knn_tfidf.predict(X))"
   ]
  },
  {
   "cell_type": "code",
   "execution_count": null,
   "metadata": {
    "collapsed": true
   },
   "outputs": [],
   "source": [
    "knn_tfidf.predict_proba(tfidf.transform([\"A menina do meio do coração\"]))"
   ]
  },
  {
   "cell_type": "code",
   "execution_count": null,
   "metadata": {
    "collapsed": true
   },
   "outputs": [],
   "source": [
    "sentences = random.choices(dom_casmurro, k=5)\n",
    "probs = knn_tfidf.predict_proba(tfidf.transform(sentences))\n",
    "\n",
    "for sentence, prob in zip(sentences, probs):\n",
    "    \n",
    "    print(\"\\n\\t{0}\\n\\n\\tDom Casmurro: {1} {2} Clarice\\n\".format(sentence, prob[0], prob[1]))"
   ]
  },
  {
   "cell_type": "code",
   "execution_count": null,
   "metadata": {
    "collapsed": true
   },
   "outputs": [],
   "source": [
    "sentences = random.choices(perto_coracao, k=5)\n",
    "probs = knn_tfidf.predict_proba(tfidf.transform(sentences))\n",
    "\n",
    "for sentence, prob in zip(sentences, probs):\n",
    "    \n",
    "    print(\"\\n\\t{0}\\n\\n\\tDom Casmurro: {1} {2} Clarice\\n\".format(sentence, prob[0], prob[1]))"
   ]
  },
  {
   "cell_type": "code",
   "execution_count": null,
   "metadata": {
    "collapsed": true
   },
   "outputs": [],
   "source": [
    "hv = HashingVectorizer(analyzer='word', # n-gram de words\n",
    "                     ngram_range=(2, 2)) # 2-gram\n",
    "\n",
    "hv.fit([dom_casmurro, perto_coracao])"
   ]
  },
  {
   "cell_type": "code",
   "execution_count": null,
   "metadata": {
    "collapsed": true
   },
   "outputs": [],
   "source": [
    "hv_bigrams = hv.transform(dom_casmurro)"
   ]
  },
  {
   "cell_type": "code",
   "execution_count": null,
   "metadata": {
    "collapsed": true
   },
   "outputs": [],
   "source": [
    "hv_bigrams"
   ]
  },
  {
   "cell_type": "code",
   "execution_count": null,
   "metadata": {
    "collapsed": true
   },
   "outputs": [],
   "source": [
    "import sys\n",
    "\n",
    "print(\"Perto do Coração Selvagem vocabulary size: {0} megabytes\".format(sys.getsizeof(perto_coracao) / 10**6))\n",
    "print(\"Dom Casmurro size: {0} megabytes\".format(sys.getsizeof(dom_casmurro) / 10**6))\n",
    "print(\"CountVectorizer vocabulary size: {0} megabytes\".format(sys.getsizeof(cv.vocabulary_) / 10**6))"
   ]
  },
  {
   "cell_type": "code",
   "execution_count": null,
   "metadata": {
    "collapsed": true
   },
   "outputs": [],
   "source": []
  }
 ],
 "metadata": {
  "kernelspec": {
   "display_name": "Python 3",
   "language": "python",
   "name": "python3"
  },
  "language_info": {
   "codemirror_mode": {
    "name": "ipython",
    "version": 3
   },
   "file_extension": ".py",
   "mimetype": "text/x-python",
   "name": "python",
   "nbconvert_exporter": "python",
   "pygments_lexer": "ipython3",
   "version": "3.6.2"
  }
 },
 "nbformat": 4,
 "nbformat_minor": 2
}
