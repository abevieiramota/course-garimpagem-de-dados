{
 "cells": [
  {
   "cell_type": "markdown",
   "metadata": {},
   "source": [
    "# Finding Similar Items"
   ]
  },
  {
   "cell_type": "markdown",
   "metadata": {},
   "source": [
    "## 3.1 Applications of Near-Neighbor Search"
   ]
  },
  {
   "cell_type": "markdown",
   "metadata": {},
   "source": [
    "## 3.1.1 Jaccard Similarity of Sets\n",
    "\n",
    "$$Jaccard\\ Similarity = \\frac{|A\\cap B|}{|A\\cup B|}$$"
   ]
  },
  {
   "cell_type": "code",
   "execution_count": 1,
   "metadata": {
    "collapsed": true
   },
   "outputs": [],
   "source": [
    "def jaccard_sim(a, b):\n",
    "    \n",
    "    return len(a.intersection(b)) / len(a.union(b))"
   ]
  },
  {
   "cell_type": "code",
   "execution_count": 2,
   "metadata": {},
   "outputs": [
    {
     "name": "stdout",
     "output_type": "stream",
     "text": [
      "Intersection: {3, 4}\n",
      "Union: {1, 2, 3, 4, 5, 7, 8}\n",
      "Jaccard Similarity = 0.2857142857142857\n"
     ]
    }
   ],
   "source": [
    "a = set([1, 2, 3, 4, 5])\n",
    "b = set([3, 4, 7, 8])\n",
    "\n",
    "a_intersection_b = a.intersection(b)\n",
    "a_union_b = a.union(b)\n",
    "\n",
    "print(\"Intersection: {0}\\nUnion: {1}\\nJaccard Similarity = {2}\".format(a_intersection_b, \n",
    "                                                                       a_union_b,\n",
    "                                                                       jaccard_sim(a, b)))"
   ]
  },
  {
   "cell_type": "markdown",
   "metadata": {},
   "source": [
    "### 3.1.2 Similarity of Documents"
   ]
  },
  {
   "cell_type": "markdown",
   "metadata": {},
   "source": [
    "### 3.1.3 Collaborative Filtering as a Similar-Sets Problem\n",
    "\n",
    "\n",
    "\n",
    "\n",
    "**ver introduction to recommender systems**"
   ]
  },
  {
   "cell_type": "code",
   "execution_count": 3,
   "metadata": {
    "collapsed": true
   },
   "outputs": [],
   "source": [
    "def jaccard_bag_sim(a, b):\n",
    "    \n",
    "    intersection_sum = sum((a & b).values())\n",
    "    union_sum = sum(a.values()) + sum(b.values())\n",
    "    \n",
    "    return intersection_sum / union_sum"
   ]
  },
  {
   "cell_type": "code",
   "execution_count": 4,
   "metadata": {
    "collapsed": true
   },
   "outputs": [],
   "source": [
    "from collections import Counter\n",
    "\n",
    "a = Counter('aaab')\n",
    "b = Counter('aabbc')"
   ]
  },
  {
   "cell_type": "code",
   "execution_count": 5,
   "metadata": {},
   "outputs": [
    {
     "data": {
      "text/plain": [
       "0.3333333333333333"
      ]
     },
     "execution_count": 5,
     "metadata": {},
     "output_type": "execute_result"
    }
   ],
   "source": [
    "jaccard_bag_sim(a, b)"
   ]
  },
  {
   "cell_type": "markdown",
   "metadata": {},
   "source": [
    "## 3.2 Shingling of Documents"
   ]
  },
  {
   "cell_type": "markdown",
   "metadata": {},
   "source": [
    "### 3.2.1 k-Shingles"
   ]
  },
  {
   "cell_type": "code",
   "execution_count": 101,
   "metadata": {
    "collapsed": true
   },
   "outputs": [],
   "source": [
    "from sklearn.feature_extraction.text import CountVectorizer\n",
    "import pandas as pd\n",
    "import codecs\n",
    "import re\n",
    "import nltk.data"
   ]
  },
  {
   "cell_type": "code",
   "execution_count": 18,
   "metadata": {
    "collapsed": true
   },
   "outputs": [],
   "source": [
    "with codecs.open('dom_casmurro.txt', 'r', 'utf-8') as f:\n",
    "    \n",
    "    dom_casmurro = f.readlines()\n",
    "    \n",
    "with codecs.open('perto_do_coracao_selvagem.txt', 'r', 'utf-8') as f:\n",
    "    \n",
    "    perto_coracao = f.readlines()"
   ]
  },
  {
   "cell_type": "code",
   "execution_count": 38,
   "metadata": {},
   "outputs": [
    {
     "data": {
      "text/plain": [
       "['CAPÍTULO PRIMEIRO\\n',\n",
       " 'DO TÍTULO\\n',\n",
       " ' \\n',\n",
       " 'Uma noite destas, vindo da cidade para o Engenho Novo, encontrei no trem da Central um rapaz aqui do bairro, que eu conheço de vista e de chapéu. Cumprimentou-me, sentou-se ao pé de mim, falou da Lua e dos ministros, e acabou recitando-me versos. A viagem era curta, e os versos pode ser que não fossem inteiramente maus. Sucedeu, porém, que, como eu estava cansado, fechei os olhos três ou quatro vezes; tanto bastou para que ele interrompesse a leitura e metesse os versos no bolso.\\n',\n",
       " ' \\n',\n",
       " '— Continue, disse eu acordando.\\n',\n",
       " ' \\n',\n",
       " '— Já acabei, murmurou ele.\\n',\n",
       " ' \\n',\n",
       " '— São muito bonitos.\\n']"
      ]
     },
     "execution_count": 38,
     "metadata": {},
     "output_type": "execute_result"
    }
   ],
   "source": [
    "dom_casmurro[:10]"
   ]
  },
  {
   "cell_type": "code",
   "execution_count": 61,
   "metadata": {
    "collapsed": true
   },
   "outputs": [],
   "source": [
    "re_empty_line = re.compile(r'^\\s*$')\n",
    "re_remove_chars = re.compile(\"[\\r\\n•]+\")\n",
    "re_chapter_title = re.compile(\"^[A-ZÁÉÍÓÚÃÕ\\. ]+\\s*$\")\n",
    "\n",
    "def clean_line(line):\n",
    "    \n",
    "    return re_remove_chars.sub(\"\", line)\n",
    "\n",
    "def is_good_line_casmurro(line):\n",
    "    \n",
    "    return re_empty_line.match(line) is None and\\\n",
    "           re_chapter_title.match(line) is None\n",
    "    \n",
    "def is_good_line_clarice(line):\n",
    "    \n",
    "    return re_empty_line.match(line) is None\n",
    "    \n",
    "def clean_and_filter_casmurro(lines):\n",
    "    \n",
    "    return [line for line in [clean_line(line) for line in lines] if \\\n",
    "            is_good_line_casmurro(line)]\n",
    "\n",
    "def clean_and_filter_clarice(lines):\n",
    "    \n",
    "    return [line for line in [clean_line(line) for line in lines] if \\\n",
    "            is_good_line_clarice(line)]"
   ]
  },
  {
   "cell_type": "code",
   "execution_count": 62,
   "metadata": {},
   "outputs": [
    {
     "data": {
      "text/plain": [
       "['Uma noite destas, vindo da cidade para o Engenho Novo, encontrei no trem da Central um rapaz aqui do bairro, que eu conheço de vista e de chapéu. Cumprimentou-me, sentou-se ao pé de mim, falou da Lua e dos ministros, e acabou recitando-me versos. A viagem era curta, e os versos pode ser que não fossem inteiramente maus. Sucedeu, porém, que, como eu estava cansado, fechei os olhos três ou quatro vezes; tanto bastou para que ele interrompesse a leitura e metesse os versos no bolso.',\n",
       " '— Continue, disse eu acordando.',\n",
       " '— Já acabei, murmurou ele.',\n",
       " '— São muito bonitos.']"
      ]
     },
     "execution_count": 62,
     "metadata": {},
     "output_type": "execute_result"
    }
   ],
   "source": [
    "clean_and_filter_casmurro(dom_casmurro[:10])"
   ]
  },
  {
   "cell_type": "code",
   "execution_count": 63,
   "metadata": {},
   "outputs": [
    {
     "data": {
      "text/plain": [
       "['O PAI \\n',\n",
       " '\\n',\n",
       " '\\n',\n",
       " '• • • \\n',\n",
       " '\\n',\n",
       " '\\n',\n",
       " 'A MAQUINA DO PAPAI batia tac-tac... tac-tac-tac... O relógio acordou emtin-dlen \\n',\n",
       " 'sem poeira. O silêncio arrastou-se zzzzzz. O guarda-roupa dizia o quê? roupa-roupa-roupa. \\n',\n",
       " 'Não, não. Entre o relógio, a máquina e o silêncio havia uma orelha à escuta, grande, cor-de- \\n',\n",
       " 'rosa e morta. Os três sons estavam ligados pela luz do dia e pelo ranger das folhinhas da \\n']"
      ]
     },
     "execution_count": 63,
     "metadata": {},
     "output_type": "execute_result"
    }
   ],
   "source": [
    "perto_coracao[:10]"
   ]
  },
  {
   "cell_type": "code",
   "execution_count": 64,
   "metadata": {},
   "outputs": [
    {
     "data": {
      "text/plain": [
       "['O PAI ',\n",
       " 'A MAQUINA DO PAPAI batia tac-tac... tac-tac-tac... O relógio acordou emtin-dlen ',\n",
       " 'sem poeira. O silêncio arrastou-se zzzzzz. O guarda-roupa dizia o quê? roupa-roupa-roupa. ',\n",
       " 'Não, não. Entre o relógio, a máquina e o silêncio havia uma orelha à escuta, grande, cor-de- ',\n",
       " 'rosa e morta. Os três sons estavam ligados pela luz do dia e pelo ranger das folhinhas da ']"
      ]
     },
     "execution_count": 64,
     "metadata": {},
     "output_type": "execute_result"
    }
   ],
   "source": [
    "clean_and_filter_clarice(perto_coracao[:10])"
   ]
  },
  {
   "cell_type": "code",
   "execution_count": 76,
   "metadata": {
    "collapsed": true
   },
   "outputs": [],
   "source": [
    "dom_casmurro = clean_and_filter_casmurro(dom_casmurro)\n",
    "perto_coracao = clean_and_filter(perto_coracao)"
   ]
  },
  {
   "cell_type": "code",
   "execution_count": 104,
   "metadata": {},
   "outputs": [],
   "source": [
    "sent_tokenizer = nltk.data.load(\"tokenizers/punkt/portuguese.pickle\")"
   ]
  },
  {
   "cell_type": "code",
   "execution_count": 109,
   "metadata": {},
   "outputs": [],
   "source": [
    "dom_casmurro = sent_tokenizer.tokenize(' '.join(dom_casmurro))\n",
    "perto_coracao = sent_tokenizer.tokenize(' '.join(perto_coracao))"
   ]
  },
  {
   "cell_type": "code",
   "execution_count": 111,
   "metadata": {},
   "outputs": [
    {
     "data": {
      "text/plain": [
       "['Uma noite destas, vindo da cidade para o Engenho Novo, encontrei no trem da Central um rapaz aqui do bairro, que eu conheço de vista e de chapéu.',\n",
       " 'Cumprimentou-me, sentou-se ao pé de mim, falou da Lua e dos ministros, e acabou recitando-me versos.',\n",
       " 'A viagem era curta, e os versos pode ser que não fossem inteiramente maus.',\n",
       " 'Sucedeu, porém, que, como eu estava cansado, fechei os olhos três ou quatro vezes; tanto bastou para que ele interrompesse a leitura e metesse os versos no bolso.',\n",
       " '— Continue, disse eu acordando.']"
      ]
     },
     "execution_count": 111,
     "metadata": {},
     "output_type": "execute_result"
    }
   ],
   "source": [
    "dom_casmurro[:5]"
   ]
  },
  {
   "cell_type": "code",
   "execution_count": 112,
   "metadata": {},
   "outputs": [
    {
     "name": "stdout",
     "output_type": "stream",
     "text": [
      "Tamanho do vocabulário: 62931\n"
     ]
    }
   ],
   "source": [
    "cv = CountVectorizer(analyzer='word', # n-gram de words\n",
    "                     ngram_range=(2, 2), # 2-gram\n",
    "                     token_pattern='\\w+') # considerar 'word' um ou mais caracteres\n",
    "\n",
    "cv.fit(dom_casmurro + perto_coracao)\n",
    "\n",
    "print(\"Tamanho do vocabulário: {}\".format(len(cv.vocabulary_)))"
   ]
  },
  {
   "cell_type": "code",
   "execution_count": 113,
   "metadata": {},
   "outputs": [
    {
     "name": "stdout",
     "output_type": "stream",
     "text": [
      "Linha:\n",
      "['Uso louça velha e mobília velha.']\n"
     ]
    }
   ],
   "source": [
    "line = dom_casmurro[33:34]\n",
    "cv_bigrams = cv.transform(line)\n",
    "df_cv_bigrams = pd.DataFrame(cv_bigrams.todense(), columns=cv.get_feature_names(), index=['count']).T\n",
    "\n",
    "print(\"Linha:\\n{}\".format(line))"
   ]
  },
  {
   "cell_type": "code",
   "execution_count": 114,
   "metadata": {},
   "outputs": [
    {
     "data": {
      "text/html": [
       "<div>\n",
       "<style>\n",
       "    .dataframe thead tr:only-child th {\n",
       "        text-align: right;\n",
       "    }\n",
       "\n",
       "    .dataframe thead th {\n",
       "        text-align: left;\n",
       "    }\n",
       "\n",
       "    .dataframe tbody tr th {\n",
       "        vertical-align: top;\n",
       "    }\n",
       "</style>\n",
       "<table border=\"1\" class=\"dataframe\">\n",
       "  <thead>\n",
       "    <tr style=\"text-align: right;\">\n",
       "      <th></th>\n",
       "      <th>count</th>\n",
       "    </tr>\n",
       "  </thead>\n",
       "  <tbody>\n",
       "    <tr>\n",
       "      <th>e mobília</th>\n",
       "      <td>1</td>\n",
       "    </tr>\n",
       "    <tr>\n",
       "      <th>louça velha</th>\n",
       "      <td>1</td>\n",
       "    </tr>\n",
       "    <tr>\n",
       "      <th>mobília velha</th>\n",
       "      <td>1</td>\n",
       "    </tr>\n",
       "    <tr>\n",
       "      <th>uso louça</th>\n",
       "      <td>1</td>\n",
       "    </tr>\n",
       "    <tr>\n",
       "      <th>velha e</th>\n",
       "      <td>1</td>\n",
       "    </tr>\n",
       "  </tbody>\n",
       "</table>\n",
       "</div>"
      ],
      "text/plain": [
       "               count\n",
       "e mobília          1\n",
       "louça velha        1\n",
       "mobília velha      1\n",
       "uso louça          1\n",
       "velha e            1"
      ]
     },
     "execution_count": 114,
     "metadata": {},
     "output_type": "execute_result"
    }
   ],
   "source": [
    "df_cv_bigrams[df_cv_bigrams['count'] > 0]"
   ]
  },
  {
   "cell_type": "code",
   "execution_count": null,
   "metadata": {
    "collapsed": true
   },
   "outputs": [],
   "source": []
  },
  {
   "cell_type": "markdown",
   "metadata": {},
   "source": [
    "## 3.2.3 Hashing Shingles"
   ]
  },
  {
   "cell_type": "code",
   "execution_count": 11,
   "metadata": {
    "collapsed": true
   },
   "outputs": [],
   "source": [
    "from sklearn.feature_extraction.text import HashingVectorizer"
   ]
  },
  {
   "cell_type": "code",
   "execution_count": 12,
   "metadata": {},
   "outputs": [
    {
     "data": {
      "text/plain": [
       "HashingVectorizer(alternate_sign=True, analyzer='word', binary=False,\n",
       "         decode_error='strict', dtype=<class 'numpy.float64'>,\n",
       "         encoding='utf-8', input='content', lowercase=True,\n",
       "         n_features=1048576, ngram_range=(2, 2), non_negative=False,\n",
       "         norm='l2', preprocessor=None, stop_words=None, strip_accents=None,\n",
       "         token_pattern='\\\\w+', tokenizer=None)"
      ]
     },
     "execution_count": 12,
     "metadata": {},
     "output_type": "execute_result"
    }
   ],
   "source": [
    "hv = HashingVectorizer(analyzer='word', # n-gram de words\n",
    "                     ngram_range=(2, 2), # 2-gram\n",
    "                     token_pattern='\\w+')\n",
    "\n",
    "hv.fit([dom_casmurro, perto_coracao])"
   ]
  },
  {
   "cell_type": "code",
   "execution_count": 13,
   "metadata": {
    "collapsed": true
   },
   "outputs": [],
   "source": [
    "hv_bigrams = hv.transform([dom_casmurro])"
   ]
  },
  {
   "cell_type": "code",
   "execution_count": 14,
   "metadata": {},
   "outputs": [
    {
     "name": "stdout",
     "output_type": "stream",
     "text": [
      "Perto do Coração Selvagem vocabulary size: 0.582302 megabytes\n",
      "Dom Casmurro size: 0.750664 megabytes\n",
      "CountVectorizer vocabulary size: 2.621544 megabytes\n"
     ]
    }
   ],
   "source": [
    "import sys\n",
    "\n",
    "print(\"Perto do Coração Selvagem vocabulary size: {0} megabytes\".format(sys.getsizeof(perto_coracao) / 10**6))\n",
    "print(\"Dom Casmurro size: {0} megabytes\".format(sys.getsizeof(dom_casmurro) / 10**6))\n",
    "print(\"CountVectorizer vocabulary size: {0} megabytes\".format(sys.getsizeof(cv.vocabulary_) / 10**6))"
   ]
  },
  {
   "cell_type": "markdown",
   "metadata": {},
   "source": [
    "## 3.3 Similarity-Preserving Summaries of Sets"
   ]
  },
  {
   "cell_type": "markdown",
   "metadata": {},
   "source": [
    "### 3.3.1 Matrix Representation of Sets"
   ]
  },
  {
   "cell_type": "code",
   "execution_count": 15,
   "metadata": {
    "collapsed": true
   },
   "outputs": [],
   "source": [
    "from sklearn.feature_extraction import DictVectorizer"
   ]
  },
  {
   "cell_type": "code",
   "execution_count": 16,
   "metadata": {},
   "outputs": [
    {
     "data": {
      "text/plain": [
       "array([[ 1.,  0.,  0.,  1.,  0.],\n",
       "       [ 0.,  0.,  1.,  0.,  0.],\n",
       "       [ 0.,  1.,  0.,  1.,  1.],\n",
       "       [ 1.,  0.,  1.,  1.,  0.]])"
      ]
     },
     "execution_count": 16,
     "metadata": {},
     "output_type": "execute_result"
    }
   ],
   "source": [
    "dv = DictVectorizer(sparse=False)\n",
    "\n",
    "D = [{'a':1, 'd':1}, {'c': 1}, {'b': 1, 'd': 1, 'e': 1}, {'a': 1, 'c': 1, 'd': 1}]\n",
    "\n",
    "X = dv.fit_transform(D)\n",
    "X # diferente da notação no livro, os conjuntos ficam representados por linhas, e não colunas"
   ]
  },
  {
   "cell_type": "code",
   "execution_count": 17,
   "metadata": {},
   "outputs": [
    {
     "data": {
      "text/plain": [
       "[{'a': 1.0, 'd': 1.0},\n",
       " {'c': 1.0},\n",
       " {'b': 1.0, 'd': 1.0, 'e': 1.0},\n",
       " {'a': 1.0, 'c': 1.0, 'd': 1.0}]"
      ]
     },
     "execution_count": 17,
     "metadata": {},
     "output_type": "execute_result"
    }
   ],
   "source": [
    "dv.inverse_transform(X)"
   ]
  },
  {
   "cell_type": "markdown",
   "metadata": {},
   "source": [
    "### 3.3.2 Minhashing\n",
    "\n",
    "Ver: http://mccormickml.com/2015/06/12/minhash-tutorial-with-python-code/"
   ]
  },
  {
   "cell_type": "markdown",
   "metadata": {},
   "source": [
    "### 3.3.3 Minhashing and Jaccard Similarity"
   ]
  },
  {
   "cell_type": "markdown",
   "metadata": {},
   "source": [
    "### 3.3.4 Minhash Signatures"
   ]
  },
  {
   "cell_type": "markdown",
   "metadata": {},
   "source": [
    "### 3.3.5 Computing Minhash Signatures"
   ]
  },
  {
   "cell_type": "markdown",
   "metadata": {},
   "source": [
    "## 3.4 Locality-Sensitive Hashing for Documents"
   ]
  },
  {
   "cell_type": "code",
   "execution_count": null,
   "metadata": {
    "collapsed": true
   },
   "outputs": [],
   "source": []
  }
 ],
 "metadata": {
  "kernelspec": {
   "display_name": "Python 3",
   "language": "python",
   "name": "python3"
  },
  "language_info": {
   "codemirror_mode": {
    "name": "ipython",
    "version": 3
   },
   "file_extension": ".py",
   "mimetype": "text/x-python",
   "name": "python",
   "nbconvert_exporter": "python",
   "pygments_lexer": "ipython3",
   "version": "3.6.2"
  }
 },
 "nbformat": 4,
 "nbformat_minor": 2
}
